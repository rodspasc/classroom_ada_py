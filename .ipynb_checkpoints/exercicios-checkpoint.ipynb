{
 "cells": [
  {
   "cell_type": "code",
   "execution_count": 1,
   "metadata": {
    "colab": {
     "base_uri": "https://localhost:8080/"
    },
    "executionInfo": {
     "elapsed": 269,
     "status": "ok",
     "timestamp": 1705692993880,
     "user": {
      "displayName": "Rodrigo Paschoarelli",
      "userId": "15390106125421711800"
     },
     "user_tz": 180
    },
    "id": "cmo9cjOIOXBQ",
    "outputId": "41adeef2-8d54-459a-e3e6-19f36b2fe9f4"
   },
   "outputs": [
    {
     "name": "stdout",
     "output_type": "stream",
     "text": [
      "True False\n"
     ]
    }
   ],
   "source": [
    "class A:\n",
    "    def __init__(self, x, y):\n",
    "        self.x = x\n",
    "        self.y = y\n",
    "    def __eq__(self, outro):\n",
    "        return self.x == outro.x\n",
    "\n",
    "class B:\n",
    "    def __init__(self, x, y):\n",
    "        self.x = x\n",
    "        self.y = y\n",
    "    def __eq__(self, outro):\n",
    "        return self.y == outro.y\n",
    "\n",
    "a = A(x=1, y=2)\n",
    "b = B(x=1, y=3)\n",
    "print(a==b, b==a)"
   ]
  },
  {
   "cell_type": "code",
   "execution_count": 2,
   "metadata": {
    "colab": {
     "base_uri": "https://localhost:8080/"
    },
    "executionInfo": {
     "elapsed": 249,
     "status": "ok",
     "timestamp": 1705693596178,
     "user": {
      "displayName": "Rodrigo Paschoarelli",
      "userId": "15390106125421711800"
     },
     "user_tz": 180
    },
    "id": "fPZqrczAQq9T",
    "outputId": "9c140cf5-7d56-4142-9b29-5b237ec0668d"
   },
   "outputs": [
    {
     "name": "stdout",
     "output_type": "stream",
     "text": [
      "False False\n"
     ]
    }
   ],
   "source": [
    "class Tolerancia:\n",
    "    def __init__(self, x, tol_minima=3, tol_maxima=6):\n",
    "        self.x = x\n",
    "        self.tol_minima = tol_minima\n",
    "        self.tol_maxima = tol_maxima\n",
    "    def __eq__(self, outro):\n",
    "        return abs(self.x - outro.x) <= self.tol_minima\n",
    "    def __ne__(self, outro):\n",
    "        return abs(self.x - outro.x) >= self.tol_maxima\n",
    "a = Tolerancia(x=10)\n",
    "b = Tolerancia(x=15)\n",
    "print(a==b, a!=b)"
   ]
  }
 ],
 "metadata": {
  "colab": {
   "authorship_tag": "ABX9TyNzMcC6l+1z/Fl0xtH4kBIE",
   "provenance": []
  },
  "kernelspec": {
   "display_name": "Python 3 (ipykernel)",
   "language": "python",
   "name": "python3"
  },
  "language_info": {
   "codemirror_mode": {
    "name": "ipython",
    "version": 3
   },
   "file_extension": ".py",
   "mimetype": "text/x-python",
   "name": "python",
   "nbconvert_exporter": "python",
   "pygments_lexer": "ipython3",
   "version": "3.11.5"
  }
 },
 "nbformat": 4,
 "nbformat_minor": 1
}
