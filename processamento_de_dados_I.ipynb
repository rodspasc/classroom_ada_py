{
 "cells": [
  {
   "cell_type": "code",
   "execution_count": 1,
   "id": "c39016d5",
   "metadata": {},
   "outputs": [
    {
     "data": {
      "text/plain": [
       "[['RA', 'Nome', 'Frequência', 'Prova1', 'Prova2', 'Prova3', 'Prova4'],\n",
       " ['110236', 'Adriana', '20', '8', '8', '8', '8'],\n",
       " ['110271', 'Maria', '19', '9.5', '8', '7', '10'],\n",
       " ['110263', 'José', '20', '5', '6.5', '7', '5']]"
      ]
     },
     "execution_count": 1,
     "metadata": {},
     "output_type": "execute_result"
    }
   ],
   "source": [
    "import csv\n",
    "\n",
    "f = open(\"alunos.csv\", \"r\", encoding=\"utf-8\")\n",
    "\n",
    "leitor = csv.reader(f, delimiter=\";\", lineterminator=\"\\n\")\n",
    "\n",
    "planilha = []\n",
    "\n",
    "for linha in leitor:\n",
    "    planilha.append(linha)\n",
    "\n",
    "f.close()\n",
    "\n",
    "planilha"
   ]
  },
  {
   "cell_type": "code",
   "execution_count": 2,
   "id": "25e4d62c",
   "metadata": {},
   "outputs": [
    {
     "data": {
      "text/plain": [
       "[['RA', 'Nome', 'Frequência', 'Prova1', 'Prova2', 'Prova3', 'Prova4'],\n",
       " ['110236', 'Adriana', '20', '8', '8', '8', '8'],\n",
       " ['110271', 'Maria', '19', '9.5', '8', '7', '10'],\n",
       " ['110263', 'José', '20', '5', '6.5', '7', '5']]"
      ]
     },
     "execution_count": 2,
     "metadata": {},
     "output_type": "execute_result"
    }
   ],
   "source": [
    "# forma condensada\n",
    "\n",
    "with open(\"alunos.csv\", \"r\", encoding=\"utf-8\") as f:\n",
    "    \n",
    "    planilha = [linha for linha in csv.reader(f, delimiter=\";\", lineterminator=\"\\n\")]\n",
    "    \n",
    "planilha    "
   ]
  },
  {
   "cell_type": "code",
   "execution_count": 3,
   "id": "b294ba7e",
   "metadata": {},
   "outputs": [
    {
     "data": {
      "text/plain": [
       "['RA', '110236', '110271', '110263']"
      ]
     },
     "execution_count": 3,
     "metadata": {},
     "output_type": "execute_result"
    }
   ],
   "source": [
    "[item[0] for item in planilha]\n"
   ]
  },
  {
   "cell_type": "code",
   "execution_count": 4,
   "id": "7ca4e32c",
   "metadata": {},
   "outputs": [
    {
     "data": {
      "text/plain": [
       "['Nome', 'Adriana', 'Maria', 'José']"
      ]
     },
     "execution_count": 4,
     "metadata": {},
     "output_type": "execute_result"
    }
   ],
   "source": [
    "[item[1] for item in planilha]"
   ]
  },
  {
   "cell_type": "code",
   "execution_count": 5,
   "id": "277ac57d",
   "metadata": {},
   "outputs": [
    {
     "name": "stdout",
     "output_type": "stream",
     "text": [
      "Digite o nome do aluno para calcular a média! Maria\n",
      "A média de Maria é 8.625\n"
     ]
    }
   ],
   "source": [
    "aluno = input(\"Digite o nome do aluno para calcular a média! \")\n",
    "\n",
    "lista_aluno = [item[1] for item in planilha]\n",
    "\n",
    "indice = lista_aluno.index(aluno)\n",
    "\n",
    "dados_aluno = planilha[indice]\n",
    "\n",
    "nota1 = float(dados_aluno[3])\n",
    "nota2 = float(dados_aluno[4])\n",
    "nota3 = float(dados_aluno[5])\n",
    "nota4 = float(dados_aluno[6])\n",
    "media = (nota1+nota2+nota3+nota4)/4\n",
    "\n",
    "print(f\"A média de {aluno} é {media}\")\n",
    "\n"
   ]
  },
  {
   "cell_type": "code",
   "execution_count": 6,
   "id": "f770e731",
   "metadata": {},
   "outputs": [
    {
     "name": "stdout",
     "output_type": "stream",
     "text": [
      "Digite o nome do aluno para calcular a média! Maria\n",
      "A média de Maria é 8.625\n"
     ]
    }
   ],
   "source": [
    "# forma condensada\n",
    "\n",
    "aluno = input(\"Digite o nome do aluno para calcular a média! \")\n",
    "\n",
    "dados_aluno = planilha[[item[1] for item in planilha].index(aluno)]\n",
    "\n",
    "nota1 = float(dados_aluno[3])\n",
    "nota2 = float(dados_aluno[4])\n",
    "nota3 = float(dados_aluno[5])\n",
    "nota4 = float(dados_aluno[6])\n",
    "media = (nota1+nota2+nota3+nota4)/4\n",
    "\n",
    "print(f\"A média de {aluno} é {media}\")\n",
    "\n",
    "\n"
   ]
  },
  {
   "cell_type": "code",
   "execution_count": 7,
   "id": "20aa8f9e",
   "metadata": {},
   "outputs": [
    {
     "name": "stdout",
     "output_type": "stream",
     "text": [
      "Requirement already satisfied: pandas in c:\\users\\rodsp\\anaconda3\\lib\\site-packages (2.0.3)\n",
      "Requirement already satisfied: python-dateutil>=2.8.2 in c:\\users\\rodsp\\anaconda3\\lib\\site-packages (from pandas) (2.8.2)\n",
      "Requirement already satisfied: pytz>=2020.1 in c:\\users\\rodsp\\anaconda3\\lib\\site-packages (from pandas) (2023.3.post1)\n",
      "Requirement already satisfied: tzdata>=2022.1 in c:\\users\\rodsp\\anaconda3\\lib\\site-packages (from pandas) (2023.3)\n",
      "Requirement already satisfied: numpy>=1.21.0 in c:\\users\\rodsp\\anaconda3\\lib\\site-packages (from pandas) (1.24.3)\n",
      "Requirement already satisfied: six>=1.5 in c:\\users\\rodsp\\anaconda3\\lib\\site-packages (from python-dateutil>=2.8.2->pandas) (1.16.0)\n"
     ]
    }
   ],
   "source": [
    "!pip install pandas"
   ]
  },
  {
   "cell_type": "code",
   "execution_count": 8,
   "id": "a5634a64",
   "metadata": {},
   "outputs": [
    {
     "data": {
      "text/html": [
       "<div>\n",
       "<style scoped>\n",
       "    .dataframe tbody tr th:only-of-type {\n",
       "        vertical-align: middle;\n",
       "    }\n",
       "\n",
       "    .dataframe tbody tr th {\n",
       "        vertical-align: top;\n",
       "    }\n",
       "\n",
       "    .dataframe thead th {\n",
       "        text-align: right;\n",
       "    }\n",
       "</style>\n",
       "<table border=\"1\" class=\"dataframe\">\n",
       "  <thead>\n",
       "    <tr style=\"text-align: right;\">\n",
       "      <th></th>\n",
       "      <th>RA</th>\n",
       "      <th>Nome</th>\n",
       "      <th>Frequência</th>\n",
       "      <th>Prova1</th>\n",
       "      <th>Prova2</th>\n",
       "      <th>Prova3</th>\n",
       "      <th>Prova4</th>\n",
       "    </tr>\n",
       "  </thead>\n",
       "  <tbody>\n",
       "    <tr>\n",
       "      <th>0</th>\n",
       "      <td>110236</td>\n",
       "      <td>Adriana</td>\n",
       "      <td>20</td>\n",
       "      <td>8.0</td>\n",
       "      <td>8.0</td>\n",
       "      <td>8</td>\n",
       "      <td>8</td>\n",
       "    </tr>\n",
       "    <tr>\n",
       "      <th>1</th>\n",
       "      <td>110271</td>\n",
       "      <td>Maria</td>\n",
       "      <td>19</td>\n",
       "      <td>9.5</td>\n",
       "      <td>8.0</td>\n",
       "      <td>7</td>\n",
       "      <td>10</td>\n",
       "    </tr>\n",
       "    <tr>\n",
       "      <th>2</th>\n",
       "      <td>110263</td>\n",
       "      <td>José</td>\n",
       "      <td>20</td>\n",
       "      <td>5.0</td>\n",
       "      <td>6.5</td>\n",
       "      <td>7</td>\n",
       "      <td>5</td>\n",
       "    </tr>\n",
       "  </tbody>\n",
       "</table>\n",
       "</div>"
      ],
      "text/plain": [
       "       RA     Nome  Frequência  Prova1  Prova2  Prova3  Prova4\n",
       "0  110236  Adriana          20     8.0     8.0       8       8\n",
       "1  110271    Maria          19     9.5     8.0       7      10\n",
       "2  110263     José          20     5.0     6.5       7       5"
      ]
     },
     "execution_count": 8,
     "metadata": {},
     "output_type": "execute_result"
    }
   ],
   "source": [
    "import pandas as pd\n",
    "\n",
    "df = pd.read_csv(\"alunos.csv\", sep=\";\")\n",
    "df"
   ]
  },
  {
   "cell_type": "code",
   "execution_count": 9,
   "id": "aa396e3b",
   "metadata": {},
   "outputs": [
    {
     "data": {
      "text/plain": [
       "0    Adriana\n",
       "1      Maria\n",
       "2       José\n",
       "Name: Nome, dtype: object"
      ]
     },
     "execution_count": 9,
     "metadata": {},
     "output_type": "execute_result"
    }
   ],
   "source": [
    "df[\"Nome\"]\n"
   ]
  },
  {
   "cell_type": "code",
   "execution_count": 10,
   "id": "ca08e672",
   "metadata": {},
   "outputs": [
    {
     "data": {
      "text/plain": [
       "Index(['RA', 'Nome', 'Frequência', 'Prova1', 'Prova2', 'Prova3', 'Prova4'], dtype='object')"
      ]
     },
     "execution_count": 10,
     "metadata": {},
     "output_type": "execute_result"
    }
   ],
   "source": [
    "df.columns"
   ]
  },
  {
   "cell_type": "code",
   "execution_count": 11,
   "id": "58a232ca",
   "metadata": {},
   "outputs": [
    {
     "data": {
      "text/plain": [
       "pandas.core.frame.DataFrame"
      ]
     },
     "execution_count": 11,
     "metadata": {},
     "output_type": "execute_result"
    }
   ],
   "source": [
    "type(df)"
   ]
  },
  {
   "cell_type": "code",
   "execution_count": 12,
   "id": "cf878fe0",
   "metadata": {},
   "outputs": [
    {
     "data": {
      "text/plain": [
       "pandas.core.series.Series"
      ]
     },
     "execution_count": 12,
     "metadata": {},
     "output_type": "execute_result"
    }
   ],
   "source": [
    "type(df[\"Nome\"])"
   ]
  },
  {
   "cell_type": "code",
   "execution_count": 13,
   "id": "3594998a",
   "metadata": {},
   "outputs": [
    {
     "data": {
      "text/plain": [
       "['Adriana', 'Maria', 'José']"
      ]
     },
     "execution_count": 13,
     "metadata": {},
     "output_type": "execute_result"
    }
   ],
   "source": [
    "df[\"Nome\"].tolist()"
   ]
  },
  {
   "cell_type": "code",
   "execution_count": 14,
   "id": "2a1d20be",
   "metadata": {},
   "outputs": [
    {
     "data": {
      "text/html": [
       "<div>\n",
       "<style scoped>\n",
       "    .dataframe tbody tr th:only-of-type {\n",
       "        vertical-align: middle;\n",
       "    }\n",
       "\n",
       "    .dataframe tbody tr th {\n",
       "        vertical-align: top;\n",
       "    }\n",
       "\n",
       "    .dataframe thead th {\n",
       "        text-align: right;\n",
       "    }\n",
       "</style>\n",
       "<table border=\"1\" class=\"dataframe\">\n",
       "  <thead>\n",
       "    <tr style=\"text-align: right;\">\n",
       "      <th></th>\n",
       "      <th>Nome</th>\n",
       "      <th>Frequência</th>\n",
       "    </tr>\n",
       "  </thead>\n",
       "  <tbody>\n",
       "    <tr>\n",
       "      <th>0</th>\n",
       "      <td>Adriana</td>\n",
       "      <td>20</td>\n",
       "    </tr>\n",
       "    <tr>\n",
       "      <th>1</th>\n",
       "      <td>Maria</td>\n",
       "      <td>19</td>\n",
       "    </tr>\n",
       "    <tr>\n",
       "      <th>2</th>\n",
       "      <td>José</td>\n",
       "      <td>20</td>\n",
       "    </tr>\n",
       "  </tbody>\n",
       "</table>\n",
       "</div>"
      ],
      "text/plain": [
       "      Nome  Frequência\n",
       "0  Adriana          20\n",
       "1    Maria          19\n",
       "2     José          20"
      ]
     },
     "execution_count": 14,
     "metadata": {},
     "output_type": "execute_result"
    }
   ],
   "source": [
    "df2 = df[[\"Nome\",\"Frequência\"]]\n",
    "df2"
   ]
  },
  {
   "cell_type": "code",
   "execution_count": 15,
   "id": "efabff26",
   "metadata": {},
   "outputs": [
    {
     "data": {
      "text/html": [
       "<div>\n",
       "<style scoped>\n",
       "    .dataframe tbody tr th:only-of-type {\n",
       "        vertical-align: middle;\n",
       "    }\n",
       "\n",
       "    .dataframe tbody tr th {\n",
       "        vertical-align: top;\n",
       "    }\n",
       "\n",
       "    .dataframe thead th {\n",
       "        text-align: right;\n",
       "    }\n",
       "</style>\n",
       "<table border=\"1\" class=\"dataframe\">\n",
       "  <thead>\n",
       "    <tr style=\"text-align: right;\">\n",
       "      <th></th>\n",
       "      <th>RA</th>\n",
       "      <th>Nome</th>\n",
       "      <th>Frequência</th>\n",
       "      <th>Prova1</th>\n",
       "      <th>Prova2</th>\n",
       "      <th>Prova3</th>\n",
       "      <th>Prova4</th>\n",
       "    </tr>\n",
       "  </thead>\n",
       "  <tbody>\n",
       "    <tr>\n",
       "      <th>0</th>\n",
       "      <td>110236</td>\n",
       "      <td>Adriana</td>\n",
       "      <td>20</td>\n",
       "      <td>8.0</td>\n",
       "      <td>8.0</td>\n",
       "      <td>8</td>\n",
       "      <td>8</td>\n",
       "    </tr>\n",
       "    <tr>\n",
       "      <th>1</th>\n",
       "      <td>110271</td>\n",
       "      <td>Maria</td>\n",
       "      <td>19</td>\n",
       "      <td>9.5</td>\n",
       "      <td>8.0</td>\n",
       "      <td>7</td>\n",
       "      <td>10</td>\n",
       "    </tr>\n",
       "    <tr>\n",
       "      <th>2</th>\n",
       "      <td>110263</td>\n",
       "      <td>José</td>\n",
       "      <td>20</td>\n",
       "      <td>5.0</td>\n",
       "      <td>6.5</td>\n",
       "      <td>7</td>\n",
       "      <td>5</td>\n",
       "    </tr>\n",
       "  </tbody>\n",
       "</table>\n",
       "</div>"
      ],
      "text/plain": [
       "       RA     Nome  Frequência  Prova1  Prova2  Prova3  Prova4\n",
       "0  110236  Adriana          20     8.0     8.0       8       8\n",
       "1  110271    Maria          19     9.5     8.0       7      10\n",
       "2  110263     José          20     5.0     6.5       7       5"
      ]
     },
     "execution_count": 15,
     "metadata": {},
     "output_type": "execute_result"
    }
   ],
   "source": [
    "df"
   ]
  },
  {
   "cell_type": "code",
   "execution_count": 16,
   "id": "5615790c",
   "metadata": {},
   "outputs": [
    {
     "data": {
      "text/html": [
       "<div>\n",
       "<style scoped>\n",
       "    .dataframe tbody tr th:only-of-type {\n",
       "        vertical-align: middle;\n",
       "    }\n",
       "\n",
       "    .dataframe tbody tr th {\n",
       "        vertical-align: top;\n",
       "    }\n",
       "\n",
       "    .dataframe thead th {\n",
       "        text-align: right;\n",
       "    }\n",
       "</style>\n",
       "<table border=\"1\" class=\"dataframe\">\n",
       "  <thead>\n",
       "    <tr style=\"text-align: right;\">\n",
       "      <th></th>\n",
       "      <th>Nome</th>\n",
       "      <th>Frequência</th>\n",
       "    </tr>\n",
       "  </thead>\n",
       "  <tbody>\n",
       "    <tr>\n",
       "      <th>0</th>\n",
       "      <td>Adriana</td>\n",
       "      <td>20</td>\n",
       "    </tr>\n",
       "    <tr>\n",
       "      <th>1</th>\n",
       "      <td>Maria</td>\n",
       "      <td>19</td>\n",
       "    </tr>\n",
       "    <tr>\n",
       "      <th>2</th>\n",
       "      <td>José</td>\n",
       "      <td>20</td>\n",
       "    </tr>\n",
       "  </tbody>\n",
       "</table>\n",
       "</div>"
      ],
      "text/plain": [
       "      Nome  Frequência\n",
       "0  Adriana          20\n",
       "1    Maria          19\n",
       "2     José          20"
      ]
     },
     "execution_count": 16,
     "metadata": {},
     "output_type": "execute_result"
    }
   ],
   "source": [
    "df2"
   ]
  },
  {
   "cell_type": "code",
   "execution_count": 17,
   "id": "acae76e2",
   "metadata": {},
   "outputs": [
    {
     "data": {
      "text/plain": [
       "RA            110271\n",
       "Nome           Maria\n",
       "Frequência        19\n",
       "Prova1           9.5\n",
       "Prova2           8.0\n",
       "Prova3             7\n",
       "Prova4            10\n",
       "Name: 1, dtype: object"
      ]
     },
     "execution_count": 17,
     "metadata": {},
     "output_type": "execute_result"
    }
   ],
   "source": [
    "df.loc[1]"
   ]
  },
  {
   "cell_type": "code",
   "execution_count": 18,
   "id": "4d0409ff",
   "metadata": {},
   "outputs": [
    {
     "data": {
      "text/plain": [
       "7"
      ]
     },
     "execution_count": 18,
     "metadata": {},
     "output_type": "execute_result"
    }
   ],
   "source": [
    "df.loc[1,\"Prova3\"]"
   ]
  },
  {
   "cell_type": "code",
   "execution_count": 19,
   "id": "9b496cb6",
   "metadata": {},
   "outputs": [
    {
     "data": {
      "text/plain": [
       "8.5"
      ]
     },
     "execution_count": 19,
     "metadata": {},
     "output_type": "execute_result"
    }
   ],
   "source": [
    "df.loc[1,\"Prova3\"] = 8.5\n",
    "df.loc[1,\"Prova3\"]"
   ]
  },
  {
   "cell_type": "code",
   "execution_count": 20,
   "id": "9450d2c4",
   "metadata": {},
   "outputs": [
    {
     "data": {
      "text/plain": [
       "RA            110271\n",
       "Nome           Maria\n",
       "Frequência        19\n",
       "Prova1           9.5\n",
       "Prova2           8.0\n",
       "Prova3           8.5\n",
       "Prova4            10\n",
       "Name: 1, dtype: object"
      ]
     },
     "execution_count": 20,
     "metadata": {},
     "output_type": "execute_result"
    }
   ],
   "source": [
    "df.loc[1]"
   ]
  },
  {
   "cell_type": "code",
   "execution_count": 21,
   "id": "fb697285",
   "metadata": {},
   "outputs": [
    {
     "data": {
      "text/html": [
       "<div>\n",
       "<style scoped>\n",
       "    .dataframe tbody tr th:only-of-type {\n",
       "        vertical-align: middle;\n",
       "    }\n",
       "\n",
       "    .dataframe tbody tr th {\n",
       "        vertical-align: top;\n",
       "    }\n",
       "\n",
       "    .dataframe thead th {\n",
       "        text-align: right;\n",
       "    }\n",
       "</style>\n",
       "<table border=\"1\" class=\"dataframe\">\n",
       "  <thead>\n",
       "    <tr style=\"text-align: right;\">\n",
       "      <th></th>\n",
       "      <th>RA</th>\n",
       "      <th>Nome</th>\n",
       "      <th>Frequência</th>\n",
       "      <th>Prova1</th>\n",
       "      <th>Prova2</th>\n",
       "      <th>Prova3</th>\n",
       "      <th>Prova4</th>\n",
       "      <th>Nova coluna</th>\n",
       "    </tr>\n",
       "  </thead>\n",
       "  <tbody>\n",
       "    <tr>\n",
       "      <th>0</th>\n",
       "      <td>110236</td>\n",
       "      <td>Adriana</td>\n",
       "      <td>20</td>\n",
       "      <td>8.0</td>\n",
       "      <td>8.0</td>\n",
       "      <td>8.0</td>\n",
       "      <td>8</td>\n",
       "      <td>ADA</td>\n",
       "    </tr>\n",
       "    <tr>\n",
       "      <th>1</th>\n",
       "      <td>110271</td>\n",
       "      <td>Maria</td>\n",
       "      <td>19</td>\n",
       "      <td>9.5</td>\n",
       "      <td>8.0</td>\n",
       "      <td>8.5</td>\n",
       "      <td>10</td>\n",
       "      <td>ADA</td>\n",
       "    </tr>\n",
       "    <tr>\n",
       "      <th>2</th>\n",
       "      <td>110263</td>\n",
       "      <td>José</td>\n",
       "      <td>20</td>\n",
       "      <td>5.0</td>\n",
       "      <td>6.5</td>\n",
       "      <td>7.0</td>\n",
       "      <td>5</td>\n",
       "      <td>ADA</td>\n",
       "    </tr>\n",
       "  </tbody>\n",
       "</table>\n",
       "</div>"
      ],
      "text/plain": [
       "       RA     Nome  Frequência  Prova1  Prova2  Prova3  Prova4 Nova coluna\n",
       "0  110236  Adriana          20     8.0     8.0     8.0       8         ADA\n",
       "1  110271    Maria          19     9.5     8.0     8.5      10         ADA\n",
       "2  110263     José          20     5.0     6.5     7.0       5         ADA"
      ]
     },
     "execution_count": 21,
     "metadata": {},
     "output_type": "execute_result"
    }
   ],
   "source": [
    "df[\"Nova coluna\"] = \"ADA\"\n",
    "df"
   ]
  },
  {
   "cell_type": "code",
   "execution_count": 22,
   "id": "48153cd4",
   "metadata": {},
   "outputs": [
    {
     "data": {
      "text/plain": [
       "[10, 1, 8, 9, 6, 10, 2, 9, 2, 3]"
      ]
     },
     "execution_count": 22,
     "metadata": {},
     "output_type": "execute_result"
    }
   ],
   "source": [
    "# repete 10 vezes a geração de numeros aleatorios entre 0 e 10 \n",
    "\n",
    "import random\n",
    "\n",
    "[random.randint(0,10) for _ in range(10)]"
   ]
  },
  {
   "cell_type": "code",
   "execution_count": 23,
   "id": "54f8995d",
   "metadata": {},
   "outputs": [
    {
     "data": {
      "text/html": [
       "<div>\n",
       "<style scoped>\n",
       "    .dataframe tbody tr th:only-of-type {\n",
       "        vertical-align: middle;\n",
       "    }\n",
       "\n",
       "    .dataframe tbody tr th {\n",
       "        vertical-align: top;\n",
       "    }\n",
       "\n",
       "    .dataframe thead th {\n",
       "        text-align: right;\n",
       "    }\n",
       "</style>\n",
       "<table border=\"1\" class=\"dataframe\">\n",
       "  <thead>\n",
       "    <tr style=\"text-align: right;\">\n",
       "      <th></th>\n",
       "      <th>RA</th>\n",
       "      <th>Nome</th>\n",
       "      <th>Frequência</th>\n",
       "      <th>Prova1</th>\n",
       "      <th>Prova2</th>\n",
       "      <th>Prova3</th>\n",
       "      <th>Prova4</th>\n",
       "      <th>Nova coluna</th>\n",
       "      <th>Prova5</th>\n",
       "    </tr>\n",
       "  </thead>\n",
       "  <tbody>\n",
       "    <tr>\n",
       "      <th>0</th>\n",
       "      <td>110236</td>\n",
       "      <td>Adriana</td>\n",
       "      <td>20</td>\n",
       "      <td>8.0</td>\n",
       "      <td>8.0</td>\n",
       "      <td>8.0</td>\n",
       "      <td>8</td>\n",
       "      <td>ADA</td>\n",
       "      <td>2</td>\n",
       "    </tr>\n",
       "    <tr>\n",
       "      <th>1</th>\n",
       "      <td>110271</td>\n",
       "      <td>Maria</td>\n",
       "      <td>19</td>\n",
       "      <td>9.5</td>\n",
       "      <td>8.0</td>\n",
       "      <td>8.5</td>\n",
       "      <td>10</td>\n",
       "      <td>ADA</td>\n",
       "      <td>6</td>\n",
       "    </tr>\n",
       "    <tr>\n",
       "      <th>2</th>\n",
       "      <td>110263</td>\n",
       "      <td>José</td>\n",
       "      <td>20</td>\n",
       "      <td>5.0</td>\n",
       "      <td>6.5</td>\n",
       "      <td>7.0</td>\n",
       "      <td>5</td>\n",
       "      <td>ADA</td>\n",
       "      <td>6</td>\n",
       "    </tr>\n",
       "  </tbody>\n",
       "</table>\n",
       "</div>"
      ],
      "text/plain": [
       "       RA     Nome  Frequência  Prova1  Prova2  Prova3  Prova4 Nova coluna  \\\n",
       "0  110236  Adriana          20     8.0     8.0     8.0       8         ADA   \n",
       "1  110271    Maria          19     9.5     8.0     8.5      10         ADA   \n",
       "2  110263     José          20     5.0     6.5     7.0       5         ADA   \n",
       "\n",
       "   Prova5  \n",
       "0       2  \n",
       "1       6  \n",
       "2       6  "
      ]
     },
     "execution_count": 23,
     "metadata": {},
     "output_type": "execute_result"
    }
   ],
   "source": [
    "# cria coluna Prova5 com notas aleatorias\n",
    "\n",
    "df[\"Prova5\"] = [random.randint(0,10) for _ in range(3)]\n",
    "\n",
    "df"
   ]
  },
  {
   "cell_type": "code",
   "execution_count": 24,
   "id": "3bb5e2ec",
   "metadata": {},
   "outputs": [
    {
     "data": {
      "text/plain": [
       "(3, 9)"
      ]
     },
     "execution_count": 24,
     "metadata": {},
     "output_type": "execute_result"
    }
   ],
   "source": [
    "# retorma nimero de linhas e colunas no dataframe\n",
    "df.shape"
   ]
  },
  {
   "cell_type": "code",
   "execution_count": 25,
   "id": "a0d64850",
   "metadata": {},
   "outputs": [],
   "source": [
    "# cria uma nova linha\n",
    "\n",
    "df.loc[4, \"RA\"] = 110278\n",
    "df.loc[4, \"Nome\"] = \"Roberto\"\n",
    "df.loc[4, \"Frequência\"] = 18\n",
    "df.loc[4, \"Prova1\"] = 7.5"
   ]
  },
  {
   "cell_type": "code",
   "execution_count": 26,
   "id": "76c392f9",
   "metadata": {},
   "outputs": [
    {
     "data": {
      "text/html": [
       "<div>\n",
       "<style scoped>\n",
       "    .dataframe tbody tr th:only-of-type {\n",
       "        vertical-align: middle;\n",
       "    }\n",
       "\n",
       "    .dataframe tbody tr th {\n",
       "        vertical-align: top;\n",
       "    }\n",
       "\n",
       "    .dataframe thead th {\n",
       "        text-align: right;\n",
       "    }\n",
       "</style>\n",
       "<table border=\"1\" class=\"dataframe\">\n",
       "  <thead>\n",
       "    <tr style=\"text-align: right;\">\n",
       "      <th></th>\n",
       "      <th>RA</th>\n",
       "      <th>Nome</th>\n",
       "      <th>Frequência</th>\n",
       "      <th>Prova1</th>\n",
       "      <th>Prova2</th>\n",
       "      <th>Prova3</th>\n",
       "      <th>Prova4</th>\n",
       "      <th>Nova coluna</th>\n",
       "      <th>Prova5</th>\n",
       "    </tr>\n",
       "  </thead>\n",
       "  <tbody>\n",
       "    <tr>\n",
       "      <th>0</th>\n",
       "      <td>110236.0</td>\n",
       "      <td>Adriana</td>\n",
       "      <td>20.0</td>\n",
       "      <td>8.0</td>\n",
       "      <td>8.0</td>\n",
       "      <td>8.0</td>\n",
       "      <td>8.0</td>\n",
       "      <td>ADA</td>\n",
       "      <td>2.0</td>\n",
       "    </tr>\n",
       "    <tr>\n",
       "      <th>1</th>\n",
       "      <td>110271.0</td>\n",
       "      <td>Maria</td>\n",
       "      <td>19.0</td>\n",
       "      <td>9.5</td>\n",
       "      <td>8.0</td>\n",
       "      <td>8.5</td>\n",
       "      <td>10.0</td>\n",
       "      <td>ADA</td>\n",
       "      <td>6.0</td>\n",
       "    </tr>\n",
       "    <tr>\n",
       "      <th>2</th>\n",
       "      <td>110263.0</td>\n",
       "      <td>José</td>\n",
       "      <td>20.0</td>\n",
       "      <td>5.0</td>\n",
       "      <td>6.5</td>\n",
       "      <td>7.0</td>\n",
       "      <td>5.0</td>\n",
       "      <td>ADA</td>\n",
       "      <td>6.0</td>\n",
       "    </tr>\n",
       "    <tr>\n",
       "      <th>4</th>\n",
       "      <td>110278.0</td>\n",
       "      <td>Roberto</td>\n",
       "      <td>18.0</td>\n",
       "      <td>7.5</td>\n",
       "      <td>NaN</td>\n",
       "      <td>NaN</td>\n",
       "      <td>NaN</td>\n",
       "      <td>NaN</td>\n",
       "      <td>NaN</td>\n",
       "    </tr>\n",
       "  </tbody>\n",
       "</table>\n",
       "</div>"
      ],
      "text/plain": [
       "         RA     Nome  Frequência  Prova1  Prova2  Prova3  Prova4 Nova coluna  \\\n",
       "0  110236.0  Adriana        20.0     8.0     8.0     8.0     8.0         ADA   \n",
       "1  110271.0    Maria        19.0     9.5     8.0     8.5    10.0         ADA   \n",
       "2  110263.0     José        20.0     5.0     6.5     7.0     5.0         ADA   \n",
       "4  110278.0  Roberto        18.0     7.5     NaN     NaN     NaN         NaN   \n",
       "\n",
       "   Prova5  \n",
       "0     2.0  \n",
       "1     6.0  \n",
       "2     6.0  \n",
       "4     NaN  "
      ]
     },
     "execution_count": 26,
     "metadata": {},
     "output_type": "execute_result"
    }
   ],
   "source": [
    "df"
   ]
  },
  {
   "cell_type": "code",
   "execution_count": 27,
   "id": "be1841e4",
   "metadata": {},
   "outputs": [],
   "source": [
    "# apagar coluna sem salvar\n",
    "\n",
    "# df.drop(columns=[\"Nova coluna\"])\n",
    "\n",
    "# apagar coluna salvando o dataframe\n",
    "\n",
    "df = df.drop(columns=[\"Nova coluna\"])\n",
    "\n",
    "# equivalente\n",
    "# df.drop(columns=[\"Nova coluna\"], inplace = True) "
   ]
  },
  {
   "cell_type": "code",
   "execution_count": 28,
   "id": "ec06c7f5",
   "metadata": {},
   "outputs": [
    {
     "data": {
      "text/html": [
       "<div>\n",
       "<style scoped>\n",
       "    .dataframe tbody tr th:only-of-type {\n",
       "        vertical-align: middle;\n",
       "    }\n",
       "\n",
       "    .dataframe tbody tr th {\n",
       "        vertical-align: top;\n",
       "    }\n",
       "\n",
       "    .dataframe thead th {\n",
       "        text-align: right;\n",
       "    }\n",
       "</style>\n",
       "<table border=\"1\" class=\"dataframe\">\n",
       "  <thead>\n",
       "    <tr style=\"text-align: right;\">\n",
       "      <th></th>\n",
       "      <th>RA</th>\n",
       "      <th>Nome</th>\n",
       "      <th>Frequência</th>\n",
       "      <th>Prova1</th>\n",
       "      <th>Prova2</th>\n",
       "      <th>Prova3</th>\n",
       "      <th>Prova4</th>\n",
       "      <th>Prova5</th>\n",
       "    </tr>\n",
       "  </thead>\n",
       "  <tbody>\n",
       "    <tr>\n",
       "      <th>0</th>\n",
       "      <td>110236.0</td>\n",
       "      <td>Adriana</td>\n",
       "      <td>20.0</td>\n",
       "      <td>8.0</td>\n",
       "      <td>8.0</td>\n",
       "      <td>8.0</td>\n",
       "      <td>8.0</td>\n",
       "      <td>2.0</td>\n",
       "    </tr>\n",
       "    <tr>\n",
       "      <th>1</th>\n",
       "      <td>110271.0</td>\n",
       "      <td>Maria</td>\n",
       "      <td>19.0</td>\n",
       "      <td>9.5</td>\n",
       "      <td>8.0</td>\n",
       "      <td>8.5</td>\n",
       "      <td>10.0</td>\n",
       "      <td>6.0</td>\n",
       "    </tr>\n",
       "    <tr>\n",
       "      <th>2</th>\n",
       "      <td>110263.0</td>\n",
       "      <td>José</td>\n",
       "      <td>20.0</td>\n",
       "      <td>5.0</td>\n",
       "      <td>6.5</td>\n",
       "      <td>7.0</td>\n",
       "      <td>5.0</td>\n",
       "      <td>6.0</td>\n",
       "    </tr>\n",
       "    <tr>\n",
       "      <th>4</th>\n",
       "      <td>110278.0</td>\n",
       "      <td>Roberto</td>\n",
       "      <td>18.0</td>\n",
       "      <td>7.5</td>\n",
       "      <td>NaN</td>\n",
       "      <td>NaN</td>\n",
       "      <td>NaN</td>\n",
       "      <td>NaN</td>\n",
       "    </tr>\n",
       "  </tbody>\n",
       "</table>\n",
       "</div>"
      ],
      "text/plain": [
       "         RA     Nome  Frequência  Prova1  Prova2  Prova3  Prova4  Prova5\n",
       "0  110236.0  Adriana        20.0     8.0     8.0     8.0     8.0     2.0\n",
       "1  110271.0    Maria        19.0     9.5     8.0     8.5    10.0     6.0\n",
       "2  110263.0     José        20.0     5.0     6.5     7.0     5.0     6.0\n",
       "4  110278.0  Roberto        18.0     7.5     NaN     NaN     NaN     NaN"
      ]
     },
     "execution_count": 28,
     "metadata": {},
     "output_type": "execute_result"
    }
   ],
   "source": [
    "df"
   ]
  },
  {
   "cell_type": "code",
   "execution_count": 29,
   "id": "06e4910f",
   "metadata": {},
   "outputs": [
    {
     "data": {
      "text/html": [
       "<div>\n",
       "<style scoped>\n",
       "    .dataframe tbody tr th:only-of-type {\n",
       "        vertical-align: middle;\n",
       "    }\n",
       "\n",
       "    .dataframe tbody tr th {\n",
       "        vertical-align: top;\n",
       "    }\n",
       "\n",
       "    .dataframe thead th {\n",
       "        text-align: right;\n",
       "    }\n",
       "</style>\n",
       "<table border=\"1\" class=\"dataframe\">\n",
       "  <thead>\n",
       "    <tr style=\"text-align: right;\">\n",
       "      <th></th>\n",
       "      <th>RA</th>\n",
       "      <th>Nome</th>\n",
       "      <th>Frequência</th>\n",
       "      <th>Prova1</th>\n",
       "      <th>Prova2</th>\n",
       "      <th>Prova3</th>\n",
       "      <th>Prova4</th>\n",
       "      <th>Prova5</th>\n",
       "    </tr>\n",
       "  </thead>\n",
       "  <tbody>\n",
       "    <tr>\n",
       "      <th>0</th>\n",
       "      <td>110236.0</td>\n",
       "      <td>Adriana</td>\n",
       "      <td>20.0</td>\n",
       "      <td>8.0</td>\n",
       "      <td>8.0</td>\n",
       "      <td>8.0</td>\n",
       "      <td>8.0</td>\n",
       "      <td>2.0</td>\n",
       "    </tr>\n",
       "    <tr>\n",
       "      <th>1</th>\n",
       "      <td>110271.0</td>\n",
       "      <td>Maria</td>\n",
       "      <td>19.0</td>\n",
       "      <td>9.5</td>\n",
       "      <td>8.0</td>\n",
       "      <td>8.5</td>\n",
       "      <td>10.0</td>\n",
       "      <td>6.0</td>\n",
       "    </tr>\n",
       "    <tr>\n",
       "      <th>2</th>\n",
       "      <td>110263.0</td>\n",
       "      <td>José</td>\n",
       "      <td>20.0</td>\n",
       "      <td>5.0</td>\n",
       "      <td>6.5</td>\n",
       "      <td>7.0</td>\n",
       "      <td>5.0</td>\n",
       "      <td>6.0</td>\n",
       "    </tr>\n",
       "  </tbody>\n",
       "</table>\n",
       "</div>"
      ],
      "text/plain": [
       "         RA     Nome  Frequência  Prova1  Prova2  Prova3  Prova4  Prova5\n",
       "0  110236.0  Adriana        20.0     8.0     8.0     8.0     8.0     2.0\n",
       "1  110271.0    Maria        19.0     9.5     8.0     8.5    10.0     6.0\n",
       "2  110263.0     José        20.0     5.0     6.5     7.0     5.0     6.0"
      ]
     },
     "execution_count": 29,
     "metadata": {},
     "output_type": "execute_result"
    }
   ],
   "source": [
    "# apagar linha sem salvar\n",
    "\n",
    "# df.drop(index=[4])\n",
    "\n",
    "# apagrar linha salvando no dataframe\n",
    "\n",
    "df = df.drop(index=[4])\n",
    "df\n",
    "\n",
    "# equivalente\n",
    "# df.drop(index[4], inplace=True)"
   ]
  },
  {
   "cell_type": "code",
   "execution_count": 30,
   "id": "2c978390",
   "metadata": {},
   "outputs": [
    {
     "data": {
      "text/plain": [
       "0    6.8\n",
       "1    8.4\n",
       "2    5.9\n",
       "dtype: float64"
      ]
     },
     "execution_count": 30,
     "metadata": {},
     "output_type": "execute_result"
    }
   ],
   "source": [
    "# calcula média\n",
    "\n",
    "(df[\"Prova1\"] + df[\"Prova2\"] + df[\"Prova3\"] + df[\"Prova4\"] + df[\"Prova5\"])/5"
   ]
  },
  {
   "cell_type": "code",
   "execution_count": 31,
   "id": "8e62e15f",
   "metadata": {},
   "outputs": [
    {
     "data": {
      "text/html": [
       "<div>\n",
       "<style scoped>\n",
       "    .dataframe tbody tr th:only-of-type {\n",
       "        vertical-align: middle;\n",
       "    }\n",
       "\n",
       "    .dataframe tbody tr th {\n",
       "        vertical-align: top;\n",
       "    }\n",
       "\n",
       "    .dataframe thead th {\n",
       "        text-align: right;\n",
       "    }\n",
       "</style>\n",
       "<table border=\"1\" class=\"dataframe\">\n",
       "  <thead>\n",
       "    <tr style=\"text-align: right;\">\n",
       "      <th></th>\n",
       "      <th>RA</th>\n",
       "      <th>Nome</th>\n",
       "      <th>Frequência</th>\n",
       "      <th>Prova1</th>\n",
       "      <th>Prova2</th>\n",
       "      <th>Prova3</th>\n",
       "      <th>Prova4</th>\n",
       "      <th>Prova5</th>\n",
       "      <th>Média</th>\n",
       "    </tr>\n",
       "  </thead>\n",
       "  <tbody>\n",
       "    <tr>\n",
       "      <th>0</th>\n",
       "      <td>110236.0</td>\n",
       "      <td>Adriana</td>\n",
       "      <td>20.0</td>\n",
       "      <td>8.0</td>\n",
       "      <td>8.0</td>\n",
       "      <td>8.0</td>\n",
       "      <td>8.0</td>\n",
       "      <td>2.0</td>\n",
       "      <td>6.8</td>\n",
       "    </tr>\n",
       "    <tr>\n",
       "      <th>1</th>\n",
       "      <td>110271.0</td>\n",
       "      <td>Maria</td>\n",
       "      <td>19.0</td>\n",
       "      <td>9.5</td>\n",
       "      <td>8.0</td>\n",
       "      <td>8.5</td>\n",
       "      <td>10.0</td>\n",
       "      <td>6.0</td>\n",
       "      <td>8.4</td>\n",
       "    </tr>\n",
       "    <tr>\n",
       "      <th>2</th>\n",
       "      <td>110263.0</td>\n",
       "      <td>José</td>\n",
       "      <td>20.0</td>\n",
       "      <td>5.0</td>\n",
       "      <td>6.5</td>\n",
       "      <td>7.0</td>\n",
       "      <td>5.0</td>\n",
       "      <td>6.0</td>\n",
       "      <td>5.9</td>\n",
       "    </tr>\n",
       "  </tbody>\n",
       "</table>\n",
       "</div>"
      ],
      "text/plain": [
       "         RA     Nome  Frequência  Prova1  Prova2  Prova3  Prova4  Prova5  \\\n",
       "0  110236.0  Adriana        20.0     8.0     8.0     8.0     8.0     2.0   \n",
       "1  110271.0    Maria        19.0     9.5     8.0     8.5    10.0     6.0   \n",
       "2  110263.0     José        20.0     5.0     6.5     7.0     5.0     6.0   \n",
       "\n",
       "   Média  \n",
       "0    6.8  \n",
       "1    8.4  \n",
       "2    5.9  "
      ]
     },
     "execution_count": 31,
     "metadata": {},
     "output_type": "execute_result"
    }
   ],
   "source": [
    "# cria coluna Média\n",
    "\n",
    "df[\"Média\"] = (df[\"Prova1\"] + df[\"Prova2\"] + df[\"Prova3\"] + df[\"Prova4\"] + df[\"Prova5\"])/5\n",
    "df"
   ]
  },
  {
   "cell_type": "code",
   "execution_count": 32,
   "id": "13052945",
   "metadata": {},
   "outputs": [
    {
     "name": "stdout",
     "output_type": "stream",
     "text": [
      "<class 'pandas.core.frame.DataFrame'>\n",
      "Index: 3 entries, 0 to 2\n",
      "Data columns (total 9 columns):\n",
      " #   Column      Non-Null Count  Dtype  \n",
      "---  ------      --------------  -----  \n",
      " 0   RA          3 non-null      float64\n",
      " 1   Nome        3 non-null      object \n",
      " 2   Frequência  3 non-null      float64\n",
      " 3   Prova1      3 non-null      float64\n",
      " 4   Prova2      3 non-null      float64\n",
      " 5   Prova3      3 non-null      float64\n",
      " 6   Prova4      3 non-null      float64\n",
      " 7   Prova5      3 non-null      float64\n",
      " 8   Média       3 non-null      float64\n",
      "dtypes: float64(8), object(1)\n",
      "memory usage: 240.0+ bytes\n"
     ]
    }
   ],
   "source": [
    "# metodo info\n",
    "df.info()"
   ]
  },
  {
   "cell_type": "code",
   "execution_count": 33,
   "id": "1f25d5ce",
   "metadata": {},
   "outputs": [
    {
     "data": {
      "text/plain": [
       "Index(['RA', 'Nome', 'Frequência', 'Prova1', 'Prova2', 'Prova3', 'Prova4',\n",
       "       'Prova5', 'Média'],\n",
       "      dtype='object')"
      ]
     },
     "execution_count": 33,
     "metadata": {},
     "output_type": "execute_result"
    }
   ],
   "source": [
    "# calculando medias das colunas\n",
    "\n",
    "df.columns # para copiar as colunas"
   ]
  },
  {
   "cell_type": "code",
   "execution_count": 34,
   "id": "abd33ce1",
   "metadata": {},
   "outputs": [
    {
     "data": {
      "text/plain": [
       "Prova1    7.500000\n",
       "Prova2    7.500000\n",
       "Prova3    7.833333\n",
       "Prova4    7.666667\n",
       "Prova5    4.666667\n",
       "dtype: float64"
      ]
     },
     "execution_count": 34,
     "metadata": {},
     "output_type": "execute_result"
    }
   ],
   "source": [
    "df[['Prova1', 'Prova2', 'Prova3', 'Prova4','Prova5']].mean(axis = 0)"
   ]
  },
  {
   "cell_type": "code",
   "execution_count": 35,
   "id": "d3570495",
   "metadata": {},
   "outputs": [
    {
     "data": {
      "text/plain": [
       "0    6.8\n",
       "1    8.4\n",
       "2    5.9\n",
       "dtype: float64"
      ]
     },
     "execution_count": 35,
     "metadata": {},
     "output_type": "execute_result"
    }
   ],
   "source": [
    "# calculando medias nas linhas\n",
    "\n",
    "df[['Prova1', 'Prova2', 'Prova3', 'Prova4','Prova5']].mean(axis = 1)\n"
   ]
  },
  {
   "cell_type": "code",
   "execution_count": 36,
   "id": "e0a4065c",
   "metadata": {},
   "outputs": [
    {
     "data": {
      "text/plain": [
       "['Prova1', 'Prova2', 'Prova3', 'Prova4', 'Prova5']"
      ]
     },
     "execution_count": 36,
     "metadata": {},
     "output_type": "execute_result"
    }
   ],
   "source": [
    "# Obter uma lista com as colunas para seleção e cópia\n",
    "[col for col in df.columns if \"Prova\" in col]"
   ]
  },
  {
   "cell_type": "code",
   "execution_count": 37,
   "id": "c6020451",
   "metadata": {},
   "outputs": [
    {
     "data": {
      "text/plain": [
       "Prova1    7.500000\n",
       "Prova2    7.500000\n",
       "Prova3    7.833333\n",
       "Prova4    7.666667\n",
       "Prova5    4.666667\n",
       "dtype: float64"
      ]
     },
     "execution_count": 37,
     "metadata": {},
     "output_type": "execute_result"
    }
   ],
   "source": [
    "# Calculando medias nas colunas forma alternativa\n",
    "\n",
    "df[[col for col in df.columns if \"Prova\" in col]].mean()\n"
   ]
  },
  {
   "cell_type": "code",
   "execution_count": 38,
   "id": "5d6683c0",
   "metadata": {},
   "outputs": [
    {
     "data": {
      "text/plain": [
       "0    6.8\n",
       "1    8.4\n",
       "2    5.9\n",
       "dtype: float64"
      ]
     },
     "execution_count": 38,
     "metadata": {},
     "output_type": "execute_result"
    }
   ],
   "source": [
    "# Calculando medias nas linhas forma alternativa\n",
    "\n",
    "df[[col for col in df.columns if \"Prova\" in col]].mean(axis = 1)"
   ]
  },
  {
   "cell_type": "code",
   "execution_count": 39,
   "id": "526eae95",
   "metadata": {},
   "outputs": [
    {
     "data": {
      "text/html": [
       "<div>\n",
       "<style scoped>\n",
       "    .dataframe tbody tr th:only-of-type {\n",
       "        vertical-align: middle;\n",
       "    }\n",
       "\n",
       "    .dataframe tbody tr th {\n",
       "        vertical-align: top;\n",
       "    }\n",
       "\n",
       "    .dataframe thead th {\n",
       "        text-align: right;\n",
       "    }\n",
       "</style>\n",
       "<table border=\"1\" class=\"dataframe\">\n",
       "  <thead>\n",
       "    <tr style=\"text-align: right;\">\n",
       "      <th></th>\n",
       "      <th>RA</th>\n",
       "      <th>Nome</th>\n",
       "      <th>Frequência</th>\n",
       "      <th>Prova1</th>\n",
       "      <th>Prova2</th>\n",
       "      <th>Prova3</th>\n",
       "      <th>Prova4</th>\n",
       "      <th>Prova5</th>\n",
       "      <th>Média</th>\n",
       "      <th>Média2</th>\n",
       "    </tr>\n",
       "  </thead>\n",
       "  <tbody>\n",
       "    <tr>\n",
       "      <th>0</th>\n",
       "      <td>110236.0</td>\n",
       "      <td>Adriana</td>\n",
       "      <td>20.0</td>\n",
       "      <td>8.0</td>\n",
       "      <td>8.0</td>\n",
       "      <td>8.0</td>\n",
       "      <td>8.0</td>\n",
       "      <td>2.0</td>\n",
       "      <td>6.8</td>\n",
       "      <td>6.8</td>\n",
       "    </tr>\n",
       "    <tr>\n",
       "      <th>1</th>\n",
       "      <td>110271.0</td>\n",
       "      <td>Maria</td>\n",
       "      <td>19.0</td>\n",
       "      <td>9.5</td>\n",
       "      <td>8.0</td>\n",
       "      <td>8.5</td>\n",
       "      <td>10.0</td>\n",
       "      <td>6.0</td>\n",
       "      <td>8.4</td>\n",
       "      <td>8.4</td>\n",
       "    </tr>\n",
       "    <tr>\n",
       "      <th>2</th>\n",
       "      <td>110263.0</td>\n",
       "      <td>José</td>\n",
       "      <td>20.0</td>\n",
       "      <td>5.0</td>\n",
       "      <td>6.5</td>\n",
       "      <td>7.0</td>\n",
       "      <td>5.0</td>\n",
       "      <td>6.0</td>\n",
       "      <td>5.9</td>\n",
       "      <td>5.9</td>\n",
       "    </tr>\n",
       "  </tbody>\n",
       "</table>\n",
       "</div>"
      ],
      "text/plain": [
       "         RA     Nome  Frequência  Prova1  Prova2  Prova3  Prova4  Prova5  \\\n",
       "0  110236.0  Adriana        20.0     8.0     8.0     8.0     8.0     2.0   \n",
       "1  110271.0    Maria        19.0     9.5     8.0     8.5    10.0     6.0   \n",
       "2  110263.0     José        20.0     5.0     6.5     7.0     5.0     6.0   \n",
       "\n",
       "   Média  Média2  \n",
       "0    6.8     6.8  \n",
       "1    8.4     8.4  \n",
       "2    5.9     5.9  "
      ]
     },
     "execution_count": 39,
     "metadata": {},
     "output_type": "execute_result"
    }
   ],
   "source": [
    "df[\"Média2\"] = df[[col for col in df.columns if \"Prova\" in col]].mean(axis = 1)\n",
    "df"
   ]
  },
  {
   "cell_type": "code",
   "execution_count": null,
   "id": "bef8aa38",
   "metadata": {},
   "outputs": [],
   "source": []
  },
  {
   "cell_type": "code",
   "execution_count": 40,
   "id": "04a1db2a",
   "metadata": {},
   "outputs": [
    {
     "data": {
      "text/html": [
       "<div>\n",
       "<style scoped>\n",
       "    .dataframe tbody tr th:only-of-type {\n",
       "        vertical-align: middle;\n",
       "    }\n",
       "\n",
       "    .dataframe tbody tr th {\n",
       "        vertical-align: top;\n",
       "    }\n",
       "\n",
       "    .dataframe thead th {\n",
       "        text-align: right;\n",
       "    }\n",
       "</style>\n",
       "<table border=\"1\" class=\"dataframe\">\n",
       "  <thead>\n",
       "    <tr style=\"text-align: right;\">\n",
       "      <th></th>\n",
       "      <th>RA</th>\n",
       "      <th>Nome</th>\n",
       "      <th>Frequência</th>\n",
       "      <th>Prova1</th>\n",
       "      <th>Prova2</th>\n",
       "      <th>Prova3</th>\n",
       "      <th>Prova4</th>\n",
       "      <th>Prova5</th>\n",
       "      <th>Média</th>\n",
       "      <th>Média2</th>\n",
       "    </tr>\n",
       "  </thead>\n",
       "  <tbody>\n",
       "    <tr>\n",
       "      <th>1</th>\n",
       "      <td>110271.0</td>\n",
       "      <td>Maria</td>\n",
       "      <td>19.0</td>\n",
       "      <td>9.5</td>\n",
       "      <td>8.0</td>\n",
       "      <td>8.5</td>\n",
       "      <td>10.0</td>\n",
       "      <td>6.0</td>\n",
       "      <td>8.4</td>\n",
       "      <td>8.4</td>\n",
       "    </tr>\n",
       "  </tbody>\n",
       "</table>\n",
       "</div>"
      ],
      "text/plain": [
       "         RA   Nome  Frequência  Prova1  Prova2  Prova3  Prova4  Prova5  Média  \\\n",
       "1  110271.0  Maria        19.0     9.5     8.0     8.5    10.0     6.0    8.4   \n",
       "\n",
       "   Média2  \n",
       "1     8.4  "
      ]
     },
     "execution_count": 40,
     "metadata": {},
     "output_type": "execute_result"
    }
   ],
   "source": [
    "# filtrar dados: selecionar alunos com media maior que 7\n",
    "\n",
    "df[df[\"Média\"] > 7]\n",
    "\n"
   ]
  },
  {
   "cell_type": "code",
   "execution_count": 41,
   "id": "221a0bd5",
   "metadata": {},
   "outputs": [
    {
     "data": {
      "text/plain": [
       "0    False\n",
       "1     True\n",
       "2    False\n",
       "Name: Média, dtype: bool"
      ]
     },
     "execution_count": 41,
     "metadata": {},
     "output_type": "execute_result"
    }
   ],
   "source": [
    "df[\"Média\"] > 7"
   ]
  },
  {
   "cell_type": "code",
   "execution_count": 42,
   "id": "81f8211a",
   "metadata": {},
   "outputs": [
    {
     "data": {
      "text/html": [
       "<div>\n",
       "<style scoped>\n",
       "    .dataframe tbody tr th:only-of-type {\n",
       "        vertical-align: middle;\n",
       "    }\n",
       "\n",
       "    .dataframe tbody tr th {\n",
       "        vertical-align: top;\n",
       "    }\n",
       "\n",
       "    .dataframe thead th {\n",
       "        text-align: right;\n",
       "    }\n",
       "</style>\n",
       "<table border=\"1\" class=\"dataframe\">\n",
       "  <thead>\n",
       "    <tr style=\"text-align: right;\">\n",
       "      <th></th>\n",
       "      <th>RA</th>\n",
       "      <th>Nome</th>\n",
       "      <th>Frequência</th>\n",
       "      <th>Prova1</th>\n",
       "      <th>Prova2</th>\n",
       "      <th>Prova3</th>\n",
       "      <th>Prova4</th>\n",
       "      <th>Prova5</th>\n",
       "      <th>Média</th>\n",
       "      <th>Média2</th>\n",
       "    </tr>\n",
       "  </thead>\n",
       "  <tbody>\n",
       "    <tr>\n",
       "      <th>1</th>\n",
       "      <td>110271.0</td>\n",
       "      <td>Maria</td>\n",
       "      <td>19.0</td>\n",
       "      <td>9.5</td>\n",
       "      <td>8.0</td>\n",
       "      <td>8.5</td>\n",
       "      <td>10.0</td>\n",
       "      <td>6.0</td>\n",
       "      <td>8.4</td>\n",
       "      <td>8.4</td>\n",
       "    </tr>\n",
       "  </tbody>\n",
       "</table>\n",
       "</div>"
      ],
      "text/plain": [
       "         RA   Nome  Frequência  Prova1  Prova2  Prova3  Prova4  Prova5  Média  \\\n",
       "1  110271.0  Maria        19.0     9.5     8.0     8.5    10.0     6.0    8.4   \n",
       "\n",
       "   Média2  \n",
       "1     8.4  "
      ]
     },
     "execution_count": 42,
     "metadata": {},
     "output_type": "execute_result"
    }
   ],
   "source": [
    "# filtrar dados: selecionar alunos com media maior que 7 e frequencia menor que 20\n",
    "\n",
    "df[(df[\"Média\"] > 7) & (df[\"Frequência\"] < 20)]\n"
   ]
  },
  {
   "cell_type": "code",
   "execution_count": 43,
   "id": "749b8ff8",
   "metadata": {},
   "outputs": [
    {
     "data": {
      "text/html": [
       "<div>\n",
       "<style scoped>\n",
       "    .dataframe tbody tr th:only-of-type {\n",
       "        vertical-align: middle;\n",
       "    }\n",
       "\n",
       "    .dataframe tbody tr th {\n",
       "        vertical-align: top;\n",
       "    }\n",
       "\n",
       "    .dataframe thead th {\n",
       "        text-align: right;\n",
       "    }\n",
       "</style>\n",
       "<table border=\"1\" class=\"dataframe\">\n",
       "  <thead>\n",
       "    <tr style=\"text-align: right;\">\n",
       "      <th></th>\n",
       "      <th>RA</th>\n",
       "      <th>Nome</th>\n",
       "      <th>Frequência</th>\n",
       "      <th>Prova1</th>\n",
       "      <th>Prova2</th>\n",
       "      <th>Prova3</th>\n",
       "      <th>Prova4</th>\n",
       "      <th>Prova5</th>\n",
       "      <th>Média</th>\n",
       "      <th>Média2</th>\n",
       "    </tr>\n",
       "  </thead>\n",
       "  <tbody>\n",
       "    <tr>\n",
       "      <th>0</th>\n",
       "      <td>110236.0</td>\n",
       "      <td>Adriana</td>\n",
       "      <td>20.0</td>\n",
       "      <td>8.0</td>\n",
       "      <td>8.0</td>\n",
       "      <td>8.0</td>\n",
       "      <td>8.0</td>\n",
       "      <td>2.0</td>\n",
       "      <td>6.8</td>\n",
       "      <td>6.8</td>\n",
       "    </tr>\n",
       "    <tr>\n",
       "      <th>2</th>\n",
       "      <td>110263.0</td>\n",
       "      <td>José</td>\n",
       "      <td>20.0</td>\n",
       "      <td>5.0</td>\n",
       "      <td>6.5</td>\n",
       "      <td>7.0</td>\n",
       "      <td>5.0</td>\n",
       "      <td>6.0</td>\n",
       "      <td>5.9</td>\n",
       "      <td>5.9</td>\n",
       "    </tr>\n",
       "  </tbody>\n",
       "</table>\n",
       "</div>"
      ],
      "text/plain": [
       "         RA     Nome  Frequência  Prova1  Prova2  Prova3  Prova4  Prova5  \\\n",
       "0  110236.0  Adriana        20.0     8.0     8.0     8.0     8.0     2.0   \n",
       "2  110263.0     José        20.0     5.0     6.5     7.0     5.0     6.0   \n",
       "\n",
       "   Média  Média2  \n",
       "0    6.8     6.8  \n",
       "2    5.9     5.9  "
      ]
     },
     "execution_count": 43,
     "metadata": {},
     "output_type": "execute_result"
    }
   ],
   "source": [
    "# filtrar dados: selecionar alunos com media não maior que 7 e frequencia não menor que 20\n",
    "\n",
    "df[(~(df[\"Média\"] > 7) & ~(df[\"Frequência\"] < 20))]\n"
   ]
  },
  {
   "cell_type": "code",
   "execution_count": 44,
   "id": "af3bd88e",
   "metadata": {},
   "outputs": [
    {
     "data": {
      "text/html": [
       "<div>\n",
       "<style scoped>\n",
       "    .dataframe tbody tr th:only-of-type {\n",
       "        vertical-align: middle;\n",
       "    }\n",
       "\n",
       "    .dataframe tbody tr th {\n",
       "        vertical-align: top;\n",
       "    }\n",
       "\n",
       "    .dataframe thead th {\n",
       "        text-align: right;\n",
       "    }\n",
       "</style>\n",
       "<table border=\"1\" class=\"dataframe\">\n",
       "  <thead>\n",
       "    <tr style=\"text-align: right;\">\n",
       "      <th></th>\n",
       "      <th>RA</th>\n",
       "      <th>Nome</th>\n",
       "      <th>Frequência</th>\n",
       "      <th>Prova1</th>\n",
       "      <th>Prova2</th>\n",
       "      <th>Prova3</th>\n",
       "      <th>Prova4</th>\n",
       "      <th>Prova5</th>\n",
       "      <th>Média</th>\n",
       "      <th>Média2</th>\n",
       "    </tr>\n",
       "  </thead>\n",
       "  <tbody>\n",
       "    <tr>\n",
       "      <th>1</th>\n",
       "      <td>110271.0</td>\n",
       "      <td>Maria</td>\n",
       "      <td>19.0</td>\n",
       "      <td>9.5</td>\n",
       "      <td>8.0</td>\n",
       "      <td>8.5</td>\n",
       "      <td>10.0</td>\n",
       "      <td>6.0</td>\n",
       "      <td>8.4</td>\n",
       "      <td>8.4</td>\n",
       "    </tr>\n",
       "  </tbody>\n",
       "</table>\n",
       "</div>"
      ],
      "text/plain": [
       "         RA   Nome  Frequência  Prova1  Prova2  Prova3  Prova4  Prova5  Média  \\\n",
       "1  110271.0  Maria        19.0     9.5     8.0     8.5    10.0     6.0    8.4   \n",
       "\n",
       "   Média2  \n",
       "1     8.4  "
      ]
     },
     "execution_count": 44,
     "metadata": {},
     "output_type": "execute_result"
    }
   ],
   "source": [
    "# filtrar dados atraves de uma consulta query(): selecionar alunos com media maior que 7 e frequencia menor que 20\n",
    "\n",
    "df.query(\"Média > 7 and Frequência < 20\")"
   ]
  },
  {
   "cell_type": "code",
   "execution_count": 45,
   "id": "3fa40c94",
   "metadata": {},
   "outputs": [
    {
     "data": {
      "text/html": [
       "<div>\n",
       "<style scoped>\n",
       "    .dataframe tbody tr th:only-of-type {\n",
       "        vertical-align: middle;\n",
       "    }\n",
       "\n",
       "    .dataframe tbody tr th {\n",
       "        vertical-align: top;\n",
       "    }\n",
       "\n",
       "    .dataframe thead th {\n",
       "        text-align: right;\n",
       "    }\n",
       "</style>\n",
       "<table border=\"1\" class=\"dataframe\">\n",
       "  <thead>\n",
       "    <tr style=\"text-align: right;\">\n",
       "      <th></th>\n",
       "      <th>RA</th>\n",
       "      <th>Nome</th>\n",
       "      <th>Frequência</th>\n",
       "      <th>Prova1</th>\n",
       "      <th>Prova2</th>\n",
       "      <th>Prova3</th>\n",
       "      <th>Prova4</th>\n",
       "      <th>Prova5</th>\n",
       "      <th>Média</th>\n",
       "      <th>Média2</th>\n",
       "    </tr>\n",
       "  </thead>\n",
       "  <tbody>\n",
       "    <tr>\n",
       "      <th>0</th>\n",
       "      <td>110236.0</td>\n",
       "      <td>Adriana</td>\n",
       "      <td>20.0</td>\n",
       "      <td>8.0</td>\n",
       "      <td>8.0</td>\n",
       "      <td>8.0</td>\n",
       "      <td>8.0</td>\n",
       "      <td>2.0</td>\n",
       "      <td>6.8</td>\n",
       "      <td>6.8</td>\n",
       "    </tr>\n",
       "    <tr>\n",
       "      <th>2</th>\n",
       "      <td>110263.0</td>\n",
       "      <td>José</td>\n",
       "      <td>20.0</td>\n",
       "      <td>5.0</td>\n",
       "      <td>6.5</td>\n",
       "      <td>7.0</td>\n",
       "      <td>5.0</td>\n",
       "      <td>6.0</td>\n",
       "      <td>5.9</td>\n",
       "      <td>5.9</td>\n",
       "    </tr>\n",
       "  </tbody>\n",
       "</table>\n",
       "</div>"
      ],
      "text/plain": [
       "         RA     Nome  Frequência  Prova1  Prova2  Prova3  Prova4  Prova5  \\\n",
       "0  110236.0  Adriana        20.0     8.0     8.0     8.0     8.0     2.0   \n",
       "2  110263.0     José        20.0     5.0     6.5     7.0     5.0     6.0   \n",
       "\n",
       "   Média  Média2  \n",
       "0    6.8     6.8  \n",
       "2    5.9     5.9  "
      ]
     },
     "execution_count": 45,
     "metadata": {},
     "output_type": "execute_result"
    }
   ],
   "source": [
    "# filtrar dados atraves de uma consulta query(): selecionar alunos com media não maior que 7 e frequencia não menor que 20\n",
    "\n",
    "df.query(\"not Média > 7 and not Frequência < 20\")"
   ]
  },
  {
   "cell_type": "code",
   "execution_count": 46,
   "id": "1eab3834",
   "metadata": {},
   "outputs": [],
   "source": [
    "# salvando o trabalha em arquivo csv separado por ; sem indice do dataframe\n",
    "\n",
    "df.to_csv(\"alunos_processado.csv\", sep=\";\",index=False )"
   ]
  },
  {
   "cell_type": "code",
   "execution_count": 47,
   "id": "1c3e31f6",
   "metadata": {},
   "outputs": [],
   "source": [
    "# salvando o trabalha em arquivo csv separado por ; sem indice do dataframe filtrado\n",
    "\n",
    "df.query(\"not Média > 7 and not Frequência < 20\").to_csv(\"alunos_processado_fitrado.csv\", sep=\";\",index=False )\n",
    "\n",
    "# df_filtrado = df.query(\"not Média > 7 and not Frequência < 20\")\n",
    "\n",
    "# df_filtrado.to_csv(\"alunos_processado.csv\", sep=\";\",index=False )"
   ]
  },
  {
   "cell_type": "code",
   "execution_count": 48,
   "id": "3a19f0a4",
   "metadata": {},
   "outputs": [],
   "source": [
    "# salvando com outro formato pressionar tab no to para ver opções\n",
    "\n",
    "df_filtrado = df.query(\"not Média > 7 and not Frequência < 20\")\n",
    "\n",
    "df_filtrado.to_excel(\"alunos_processado_fitrado.xlsx\")"
   ]
  },
  {
   "cell_type": "markdown",
   "id": "c47a5410",
   "metadata": {},
   "source": [
    "# em read_ pressionar tab para ver opções de arquivos para leitura"
   ]
  },
  {
   "cell_type": "code",
   "execution_count": 51,
   "id": "35e179c7",
   "metadata": {},
   "outputs": [
    {
     "data": {
      "text/plain": [
       "{'Nomes': ['João', 'Mara', 'Marina'],\n",
       " 'Idade': [25, 20, 18],\n",
       " 'Cidade': ['São Paulo', 'Ubatuba', 'Bauru'],\n",
       " 'Filhos': [0, 0, 0],\n",
       " 'Altura': [1.8, 1.65, 1.6]}"
      ]
     },
     "execution_count": 51,
     "metadata": {},
     "output_type": "execute_result"
    }
   ],
   "source": [
    "# criar dataframe a partir de um dicionario\n",
    "\n",
    "cadastro = {\"Nomes\" : [\"João\",\"Mara\",\"Marina\"], \"Idade\" : [25, 20, 18], \"Cidade\" : [\"São Paulo\",\"Ubatuba\",\"Bauru\"], \n",
    "            \"Filhos\" : [0, 0, 0], \"Altura\" : [1.80, 1.65, 1.60]}\n",
    "\n",
    "cadastro\n"
   ]
  },
  {
   "cell_type": "code",
   "execution_count": 52,
   "id": "ba013386",
   "metadata": {},
   "outputs": [
    {
     "data": {
      "text/html": [
       "<div>\n",
       "<style scoped>\n",
       "    .dataframe tbody tr th:only-of-type {\n",
       "        vertical-align: middle;\n",
       "    }\n",
       "\n",
       "    .dataframe tbody tr th {\n",
       "        vertical-align: top;\n",
       "    }\n",
       "\n",
       "    .dataframe thead th {\n",
       "        text-align: right;\n",
       "    }\n",
       "</style>\n",
       "<table border=\"1\" class=\"dataframe\">\n",
       "  <thead>\n",
       "    <tr style=\"text-align: right;\">\n",
       "      <th></th>\n",
       "      <th>Nomes</th>\n",
       "      <th>Idade</th>\n",
       "      <th>Cidade</th>\n",
       "      <th>Filhos</th>\n",
       "      <th>Altura</th>\n",
       "    </tr>\n",
       "  </thead>\n",
       "  <tbody>\n",
       "    <tr>\n",
       "      <th>0</th>\n",
       "      <td>João</td>\n",
       "      <td>25</td>\n",
       "      <td>São Paulo</td>\n",
       "      <td>0</td>\n",
       "      <td>1.80</td>\n",
       "    </tr>\n",
       "    <tr>\n",
       "      <th>1</th>\n",
       "      <td>Mara</td>\n",
       "      <td>20</td>\n",
       "      <td>Ubatuba</td>\n",
       "      <td>0</td>\n",
       "      <td>1.65</td>\n",
       "    </tr>\n",
       "    <tr>\n",
       "      <th>2</th>\n",
       "      <td>Marina</td>\n",
       "      <td>18</td>\n",
       "      <td>Bauru</td>\n",
       "      <td>0</td>\n",
       "      <td>1.60</td>\n",
       "    </tr>\n",
       "  </tbody>\n",
       "</table>\n",
       "</div>"
      ],
      "text/plain": [
       "    Nomes  Idade     Cidade  Filhos  Altura\n",
       "0    João     25  São Paulo       0    1.80\n",
       "1    Mara     20    Ubatuba       0    1.65\n",
       "2  Marina     18      Bauru       0    1.60"
      ]
     },
     "execution_count": 52,
     "metadata": {},
     "output_type": "execute_result"
    }
   ],
   "source": [
    "pd.DataFrame(cadastro)"
   ]
  },
  {
   "cell_type": "code",
   "execution_count": 53,
   "id": "247de72f",
   "metadata": {},
   "outputs": [
    {
     "data": {
      "text/plain": [
       "{'RA': {0: 110236.0, 1: 110271.0, 2: 110263.0},\n",
       " 'Nome': {0: 'Adriana', 1: 'Maria', 2: 'José'},\n",
       " 'Frequência': {0: 20.0, 1: 19.0, 2: 20.0},\n",
       " 'Prova1': {0: 8.0, 1: 9.5, 2: 5.0},\n",
       " 'Prova2': {0: 8.0, 1: 8.0, 2: 6.5},\n",
       " 'Prova3': {0: 8.0, 1: 8.5, 2: 7.0},\n",
       " 'Prova4': {0: 8.0, 1: 10.0, 2: 5.0},\n",
       " 'Prova5': {0: 2.0, 1: 6.0, 2: 6.0},\n",
       " 'Média': {0: 6.8, 1: 8.4, 2: 5.9},\n",
       " 'Média2': {0: 6.8, 1: 8.4, 2: 5.9}}"
      ]
     },
     "execution_count": 53,
     "metadata": {},
     "output_type": "execute_result"
    }
   ],
   "source": [
    "# criar dicionario a partir de um dataframe\n",
    "\n",
    "df.to_dict()"
   ]
  },
  {
   "cell_type": "code",
   "execution_count": null,
   "id": "97483c72",
   "metadata": {},
   "outputs": [],
   "source": []
  }
 ],
 "metadata": {
  "kernelspec": {
   "display_name": "Python 3 (ipykernel)",
   "language": "python",
   "name": "python3"
  },
  "language_info": {
   "codemirror_mode": {
    "name": "ipython",
    "version": 3
   },
   "file_extension": ".py",
   "mimetype": "text/x-python",
   "name": "python",
   "nbconvert_exporter": "python",
   "pygments_lexer": "ipython3",
   "version": "3.11.5"
  }
 },
 "nbformat": 4,
 "nbformat_minor": 5
}
